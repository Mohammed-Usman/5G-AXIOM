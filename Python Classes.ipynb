{
 "cells": [
  {
   "cell_type": "markdown",
   "metadata": {},
   "source": [
    "# Classes"
   ]
  },
  {
   "cell_type": "markdown",
   "metadata": {},
   "source": [
    "In Python, classes are templates. They help you standardize and organize\n",
    "information\n",
    "\n",
    "DRY -> don't repeat yourself"
   ]
  },
  {
   "cell_type": "markdown",
   "metadata": {},
   "source": [
    "## Advantages of Using Classes in Python\n",
    "* Data members and methods together in one place which helps in keeping the program more organized.\n",
    "* Using classes provides the ability to reuse the code which makes the program more efficient.\n",
    "* Grouping related functions and keeping them in one place (inside a class) provides a clean structure to the code which increases the readability of the program."
   ]
  },
  {
   "cell_type": "markdown",
   "metadata": {},
   "source": [
    "<img src=\"Screenshot from 2020-06-14 16-17-52.png\">"
   ]
  },
  {
   "cell_type": "markdown",
   "metadata": {},
   "source": [
    "# Car\n",
    "## Attrubutes/Properties \n",
    "    * Make\n",
    "    * Model\n",
    "    * Color\n",
    "    * Steering\n",
    "    * Pedals\n",
    "    * Gear leaver\n",
    "    * etc\n",
    "    \n",
    "## Methods\n",
    "    * Start\n",
    "    * Drive\n",
    "    * Park\n",
    "    * Slow Down\n",
    "    * Speed Up\n",
    "    * etc\n",
    "## Events\n",
    "    * On Start\n",
    "    * On Park\n",
    "    * On Break\n",
    "    * On Accelerate\n",
    "    * etc\n"
   ]
  },
  {
   "cell_type": "code",
   "execution_count": null,
   "metadata": {},
   "outputs": [],
   "source": [
    "class Patient():                   # class definition first letter caplital\n",
    "    \n",
    "    def __init__(self, last_name): # class constructor/initializer\n",
    "        self.last_name = last_name # instance attribute\n",
    "        \n",
    "        \n",
    "pid001 = Patient('Ali')            # Instance"
   ]
  },
  {
   "cell_type": "code",
   "execution_count": null,
   "metadata": {},
   "outputs": [],
   "source": [
    "pid001.last_name"
   ]
  },
  {
   "cell_type": "markdown",
   "metadata": {},
   "source": [
    "# Patient Template\n",
    "<img src=\"Screenshot from 2020-06-14 16-06-22.png\">"
   ]
  },
  {
   "cell_type": "code",
   "execution_count": null,
   "metadata": {},
   "outputs": [],
   "source": [
    "# attribute name changed\n",
    "\n",
    "class Patient():\n",
    "    def __init__(self, last_name):\n",
    "        self.name = last_name # Changed attribute name\n",
    "       \n",
    "    \n",
    "    \n",
    "    \n",
    "pid4343 = Patient('Taleb') # instance"
   ]
  },
  {
   "cell_type": "code",
   "execution_count": null,
   "metadata": {},
   "outputs": [],
   "source": [
    "#pid4343.name # Attribute Calling"
   ]
  },
  {
   "cell_type": "code",
   "execution_count": null,
   "metadata": {},
   "outputs": [],
   "source": [
    "pid4343.name"
   ]
  },
  {
   "cell_type": "markdown",
   "metadata": {},
   "source": [
    "<img src=\"Screenshot from 2020-06-14 16-37-51.png\">"
   ]
  },
  {
   "cell_type": "code",
   "execution_count": null,
   "metadata": {},
   "outputs": [],
   "source": [
    "pid001 = Patient(\"Ali\")\n",
    "pid002 = Patient(\"Usman\")\n",
    "pid003 = Patient(\"Gulraiz\")\n",
    "pid004 = Patient(\"Haseeb\")"
   ]
  },
  {
   "cell_type": "code",
   "execution_count": null,
   "metadata": {},
   "outputs": [],
   "source": [
    "# pid003 is Identifier\n",
    "pid003.last_name"
   ]
  },
  {
   "cell_type": "code",
   "execution_count": null,
   "metadata": {},
   "outputs": [],
   "source": [
    "# Patient calss with Multiple attributes\n",
    "\n",
    "class Patient():\n",
    "    def __init__(self, first_name, last_name, gender, age):\n",
    "        self.first_name = first_name # Changed attribute name\n",
    "        self.last_name = last_name\n",
    "        self.gender = gender\n",
    "        self.age = age\n",
    "        "
   ]
  },
  {
   "cell_type": "code",
   "execution_count": null,
   "metadata": {},
   "outputs": [],
   "source": [
    "pid005 = Patient('Muhammad', 'Hamza', 'Male', 30)"
   ]
  },
  {
   "cell_type": "code",
   "execution_count": null,
   "metadata": {},
   "outputs": [],
   "source": [
    "pid005.first_name"
   ]
  },
  {
   "cell_type": "code",
   "execution_count": null,
   "metadata": {},
   "outputs": [],
   "source": [
    "pid005.last_name"
   ]
  },
  {
   "cell_type": "code",
   "execution_count": null,
   "metadata": {},
   "outputs": [],
   "source": [
    "pid005.gender"
   ]
  },
  {
   "cell_type": "code",
   "execution_count": 284,
   "metadata": {},
   "outputs": [],
   "source": [
    "# freestanding function\n",
    "\n",
    "def say_if_minor(patient_first_name, patient_last_name, patient_age):\n",
    "    if patient_age < 21:\n",
    "        print(patient_first_name + \" \" + patient_last_name + \" is a minor\")\n",
    "    else:\n",
    "        print('Adult')"
   ]
  },
  {
   "cell_type": "code",
   "execution_count": 285,
   "metadata": {},
   "outputs": [
    {
     "name": "stdout",
     "output_type": "stream",
     "text": [
      "Adult\n"
     ]
    }
   ],
   "source": [
    "say_if_minor(pid005.first_name, pid005.last_name, pid005.age)"
   ]
  },
  {
   "cell_type": "code",
   "execution_count": null,
   "metadata": {},
   "outputs": [],
   "source": [
    "# Class Method\n",
    "\n",
    "class Patient():\n",
    "    def __init__(self, first_name, last_name, gender, age):\n",
    "        self.first_name = first_name # Changed attribute name\n",
    "        self.last_name = last_name\n",
    "        self.gender = gender\n",
    "        self.age = age\n",
    "            \n",
    "    def say_if_minor(self): # Class Method\n",
    "        \n",
    "        if self.age < 21:\n",
    "            print(\"This patient is a minor\")\n",
    "            \n",
    "        else:\n",
    "            print('This patient is an adult')"
   ]
  },
  {
   "cell_type": "code",
   "execution_count": null,
   "metadata": {},
   "outputs": [],
   "source": [
    "pid005 = Patient('Muhammad', 'Usman', 'Male', 24)"
   ]
  },
  {
   "cell_type": "code",
   "execution_count": null,
   "metadata": {},
   "outputs": [],
   "source": [
    "pid006 = Patient('Ali', 'Khan', 'Male', 18)"
   ]
  },
  {
   "cell_type": "code",
   "execution_count": null,
   "metadata": {},
   "outputs": [],
   "source": [
    "pid006.say_if_minor()"
   ]
  },
  {
   "cell_type": "code",
   "execution_count": null,
   "metadata": {},
   "outputs": [],
   "source": [
    "pid005.say_if_minor()"
   ]
  },
  {
   "cell_type": "code",
   "execution_count": null,
   "metadata": {},
   "outputs": [],
   "source": [
    "print(self.first_name + \" \" + self.last_name + \" is a minor\")"
   ]
  },
  {
   "cell_type": "markdown",
   "metadata": {},
   "source": [
    "## Changing Attribute Value"
   ]
  },
  {
   "cell_type": "code",
   "execution_count": 286,
   "metadata": {},
   "outputs": [],
   "source": [
    "class Patient():\n",
    "    def __init__(self, first_name, last_name, gender, age):\n",
    "        self.first_name = first_name # Changed attribute name\n",
    "        self.last_name = last_name\n",
    "        self.gender = gender\n",
    "        self.age = age\n",
    "            \n",
    "    def say_if_minor(self): # Class Method\n",
    "        if self.age < 21:\n",
    "            print(self.first_name + \" \" + self.last_name + \" is a minor\")\n",
    "        else:\n",
    "            print(self.first_name + \" \" + self.last_name + \" is a adult\")"
   ]
  },
  {
   "cell_type": "code",
   "execution_count": 287,
   "metadata": {},
   "outputs": [],
   "source": [
    "pid005 = Patient('Haseeb', 'Amjad', 'Male', 24)"
   ]
  },
  {
   "cell_type": "code",
   "execution_count": 288,
   "metadata": {},
   "outputs": [
    {
     "data": {
      "text/plain": [
       "'Amjad'"
      ]
     },
     "execution_count": 288,
     "metadata": {},
     "output_type": "execute_result"
    }
   ],
   "source": [
    "pid005.last_name"
   ]
  },
  {
   "cell_type": "code",
   "execution_count": 289,
   "metadata": {},
   "outputs": [],
   "source": [
    "# Changing an attribute's value with instance \n",
    "pid005.last_name = 'Hassan'"
   ]
  },
  {
   "cell_type": "code",
   "execution_count": 290,
   "metadata": {},
   "outputs": [
    {
     "data": {
      "text/plain": [
       "'Hassan'"
      ]
     },
     "execution_count": 290,
     "metadata": {},
     "output_type": "execute_result"
    }
   ],
   "source": [
    "pid005.last_name"
   ]
  },
  {
   "cell_type": "code",
   "execution_count": null,
   "metadata": {},
   "outputs": [],
   "source": [
    "# Changing an attribute's value through method\n",
    "\n",
    "class Patient():\n",
    "    def __init__(self, first_name, last_name, gender, age):\n",
    "        self.first_name = first_name # Changed attribute name\n",
    "        self.last_name = last_name\n",
    "        self.gender = gender\n",
    "        self.age = age\n",
    "            \n",
    "    def say_if_minor(self): # Class Method\n",
    "        if self.age < 21:\n",
    "            print(self.first_name + \" \" + self.last_name + \" is a minor\")\n",
    "        else:\n",
    "            print(self.first_name + \" \" + self.last_name + \" is a adult\")\n",
    "    \n",
    "    def change_last_name(self, new_last_name):\n",
    "        self.last_name = new_last_name        # represets line number 6"
   ]
  },
  {
   "cell_type": "code",
   "execution_count": null,
   "metadata": {},
   "outputs": [],
   "source": [
    "pid005 = Patient('Haseeb', 'Amjad', 'Male', 24)"
   ]
  },
  {
   "cell_type": "code",
   "execution_count": null,
   "metadata": {},
   "outputs": [],
   "source": [
    "pid005.last_name"
   ]
  },
  {
   "cell_type": "code",
   "execution_count": null,
   "metadata": {},
   "outputs": [],
   "source": [
    "# Changing an attribute's value\n",
    "# throught attribute name\n",
    "pid005.last_name = 'Hassan'"
   ]
  },
  {
   "cell_type": "code",
   "execution_count": null,
   "metadata": {},
   "outputs": [],
   "source": [
    "pid005.last_name"
   ]
  },
  {
   "cell_type": "code",
   "execution_count": null,
   "metadata": {},
   "outputs": [],
   "source": [
    "# Changing an attribute's value\n",
    "# throught attribute method\n",
    "pid005.change_last_name(\"Usman\")"
   ]
  },
  {
   "cell_type": "code",
   "execution_count": null,
   "metadata": {},
   "outputs": [],
   "source": [
    "pid005.last_name"
   ]
  },
  {
   "cell_type": "markdown",
   "metadata": {},
   "source": [
    "# local vs Global"
   ]
  },
  {
   "cell_type": "code",
   "execution_count": 269,
   "metadata": {},
   "outputs": [],
   "source": [
    "car_built = 2019 # Global varialbe\n",
    "\n",
    "class Car: # equals to Car():\n",
    "\n",
    "    # class attribute/\n",
    "    wheels = 4\n",
    "\n",
    "    # initializer / instance attributes\n",
    "    def __init__(self, color, style):\n",
    "        self.color = color\n",
    "        self.style = style\n",
    "\n",
    "    # method 1\n",
    "    def showDescription(self):\n",
    "        \n",
    "        print(\"This car is a\", self.color, self.style)\n",
    "        print('Built in',car_built) # RELATE LINE 1\n",
    "\n",
    "    # method 2\n",
    "    def changeColor(self, color):\n",
    "        self.color = color"
   ]
  },
  {
   "cell_type": "code",
   "execution_count": 270,
   "metadata": {},
   "outputs": [],
   "source": [
    "car1 = Car('black', 'SUV')"
   ]
  },
  {
   "cell_type": "code",
   "execution_count": 271,
   "metadata": {},
   "outputs": [
    {
     "name": "stdout",
     "output_type": "stream",
     "text": [
      "This car is a black SUV\n",
      "Built in 2019\n"
     ]
    }
   ],
   "source": [
    "car1.showDescription()"
   ]
  },
  {
   "cell_type": "code",
   "execution_count": 272,
   "metadata": {},
   "outputs": [
    {
     "data": {
      "text/plain": [
       "2019"
      ]
     },
     "execution_count": 272,
     "metadata": {},
     "output_type": "execute_result"
    }
   ],
   "source": [
    "car_built"
   ]
  },
  {
   "cell_type": "code",
   "execution_count": 274,
   "metadata": {},
   "outputs": [],
   "source": [
    "# Year Increment\n",
    "car_built = 2019 # Global varialbe\n",
    "\n",
    "class Car: # equals to Car():\n",
    "\n",
    "    # class attribute\n",
    "    wheels = 4\n",
    "\n",
    "    # initializer / instance attributes\n",
    "    def __init__(self, color, style):\n",
    "        self.color = color\n",
    "        self.style = style\n",
    "\n",
    "    # method 1\n",
    "    def showDescription(self):\n",
    "        \n",
    "        print(\"This car is a\", self.color, self.style)\n",
    "        \n",
    "        car_built += 1         # Year Increment\n",
    "        \n",
    "        print('Built in',car_built)\n",
    "\n",
    "    # method 2\n",
    "    def changeColor(self, color):\n",
    "        self.color = color"
   ]
  },
  {
   "cell_type": "code",
   "execution_count": 275,
   "metadata": {},
   "outputs": [],
   "source": [
    "car1 = Car('black', 'SUV')"
   ]
  },
  {
   "cell_type": "code",
   "execution_count": 276,
   "metadata": {},
   "outputs": [
    {
     "name": "stdout",
     "output_type": "stream",
     "text": [
      "This car is a black SUV\n"
     ]
    },
    {
     "ename": "UnboundLocalError",
     "evalue": "local variable 'car_built' referenced before assignment",
     "output_type": "error",
     "traceback": [
      "\u001b[0;31m---------------------------------------------------------------------------\u001b[0m",
      "\u001b[0;31mUnboundLocalError\u001b[0m                         Traceback (most recent call last)",
      "\u001b[0;32m<ipython-input-276-26072456a612>\u001b[0m in \u001b[0;36m<module>\u001b[0;34m()\u001b[0m\n\u001b[1;32m      1\u001b[0m \u001b[0;31m# will year increment ???\u001b[0m\u001b[0;34m\u001b[0m\u001b[0;34m\u001b[0m\u001b[0;34m\u001b[0m\u001b[0m\n\u001b[0;32m----> 2\u001b[0;31m \u001b[0mcar1\u001b[0m\u001b[0;34m.\u001b[0m\u001b[0mshowDescription\u001b[0m\u001b[0;34m(\u001b[0m\u001b[0;34m)\u001b[0m\u001b[0;34m\u001b[0m\u001b[0;34m\u001b[0m\u001b[0m\n\u001b[0m",
      "\u001b[0;32m<ipython-input-274-88cd915934e2>\u001b[0m in \u001b[0;36mshowDescription\u001b[0;34m(self)\u001b[0m\n\u001b[1;32m     17\u001b[0m         \u001b[0mprint\u001b[0m\u001b[0;34m(\u001b[0m\u001b[0;34m\"This car is a\"\u001b[0m\u001b[0;34m,\u001b[0m \u001b[0mself\u001b[0m\u001b[0;34m.\u001b[0m\u001b[0mcolor\u001b[0m\u001b[0;34m,\u001b[0m \u001b[0mself\u001b[0m\u001b[0;34m.\u001b[0m\u001b[0mstyle\u001b[0m\u001b[0;34m)\u001b[0m\u001b[0;34m\u001b[0m\u001b[0;34m\u001b[0m\u001b[0m\n\u001b[1;32m     18\u001b[0m \u001b[0;34m\u001b[0m\u001b[0m\n\u001b[0;32m---> 19\u001b[0;31m         \u001b[0mcar_built\u001b[0m \u001b[0;34m+=\u001b[0m \u001b[0;36m1\u001b[0m         \u001b[0;31m# Year Increment\u001b[0m\u001b[0;34m\u001b[0m\u001b[0;34m\u001b[0m\u001b[0m\n\u001b[0m\u001b[1;32m     20\u001b[0m \u001b[0;34m\u001b[0m\u001b[0m\n\u001b[1;32m     21\u001b[0m         \u001b[0mprint\u001b[0m\u001b[0;34m(\u001b[0m\u001b[0;34m'Built in'\u001b[0m\u001b[0;34m,\u001b[0m\u001b[0mcar_built\u001b[0m\u001b[0;34m)\u001b[0m\u001b[0;34m\u001b[0m\u001b[0;34m\u001b[0m\u001b[0m\n",
      "\u001b[0;31mUnboundLocalError\u001b[0m: local variable 'car_built' referenced before assignment"
     ]
    }
   ],
   "source": [
    "# will year increment ???\n",
    "car1.showDescription()"
   ]
  },
  {
   "cell_type": "code",
   "execution_count": 280,
   "metadata": {},
   "outputs": [],
   "source": [
    "# # Year Increment using global keyword\n",
    "\n",
    "car_built = 2019 # Global varialbe\n",
    "\n",
    "class Car: # equals to Car():\n",
    "\n",
    "    # class attribute\n",
    "    wheels = 4\n",
    "\n",
    "    # initializer / instance attributes\n",
    "    def __init__(self, color, style):\n",
    "        self.color = color\n",
    "        self.style = style\n",
    "\n",
    "    # method 1\n",
    "    def showDescription(self):\n",
    "        \n",
    "        print(\"This car is a\", self.color, self.style)\n",
    "        \n",
    "        global car_built       # Changing state of variable\n",
    "        \n",
    "        car_built += 1         # Year Increment\n",
    "        print('Built in',car_built)\n",
    "\n",
    "    # method 2\n",
    "    def changeColor(self, color):\n",
    "        self.color = color"
   ]
  },
  {
   "cell_type": "code",
   "execution_count": 281,
   "metadata": {},
   "outputs": [],
   "source": [
    "car1 = Car('black', 'SUV')"
   ]
  },
  {
   "cell_type": "code",
   "execution_count": 282,
   "metadata": {},
   "outputs": [
    {
     "name": "stdout",
     "output_type": "stream",
     "text": [
      "This car is a black SUV\n",
      "Built in 2020\n"
     ]
    }
   ],
   "source": [
    "car1.showDescription()"
   ]
  },
  {
   "cell_type": "code",
   "execution_count": 283,
   "metadata": {},
   "outputs": [
    {
     "data": {
      "text/plain": [
       "2020"
      ]
     },
     "execution_count": 283,
     "metadata": {},
     "output_type": "execute_result"
    }
   ],
   "source": [
    "# Current value of car_built ???\n",
    "car_built"
   ]
  },
  {
   "cell_type": "code",
   "execution_count": null,
   "metadata": {},
   "outputs": [],
   "source": []
  }
 ],
 "metadata": {
  "kernelspec": {
   "display_name": "Python 3",
   "language": "python",
   "name": "python3"
  },
  "language_info": {
   "codemirror_mode": {
    "name": "ipython",
    "version": 3
   },
   "file_extension": ".py",
   "mimetype": "text/x-python",
   "name": "python",
   "nbconvert_exporter": "python",
   "pygments_lexer": "ipython3",
   "version": "3.6.9"
  }
 },
 "nbformat": 4,
 "nbformat_minor": 2
}
